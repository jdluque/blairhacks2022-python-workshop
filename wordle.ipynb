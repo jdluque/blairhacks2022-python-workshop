{
 "cells": [
  {
   "cell_type": "code",
   "execution_count": 1,
   "metadata": {},
   "outputs": [],
   "source": [
    "# You will probably need to install the emoji module by running <pip install emoji> on your command line\n",
    "import emoji\n",
    "import string\n",
    "import random"
   ]
  },
  {
   "cell_type": "code",
   "execution_count": 2,
   "metadata": {},
   "outputs": [],
   "source": [
    "# Full emoji reference in http://www.unicode.org/emoji/charts/full-emoji-list.html\n",
    "YELLOW_SQ = emoji.emojize(':yellow_square:')\n",
    "WHITE_SQ = emoji.emojize(':white_large_square:')\n",
    "GREEN_SQ = emoji.emojize(':green_square:')"
   ]
  },
  {
   "cell_type": "code",
   "execution_count": 3,
   "metadata": {},
   "outputs": [
    {
     "name": "stdout",
     "output_type": "stream",
     "text": [
      "🟨 ⬜ 🟩\n"
     ]
    }
   ],
   "source": [
    "print(YELLOW_SQ, WHITE_SQ, GREEN_SQ)"
   ]
  },
  {
   "cell_type": "code",
   "execution_count": 4,
   "metadata": {},
   "outputs": [],
   "source": [
    "# English words sourced from https://github.com/dwyl/english-words\n",
    "f = open('data/words.txt', 'r')\n",
    "lines = f.read().splitlines()\n",
    "f.close()"
   ]
  },
  {
   "cell_type": "code",
   "execution_count": 5,
   "metadata": {},
   "outputs": [],
   "source": [
    "alphabet = set(string.ascii_letters)\n",
    "def is_five_letter_word(line):\n",
    "    return len(line) == 5 and all([(c in alphabet) for c in line])\n",
    "lines = [line for line in lines if is_five_letter_word(line)]"
   ]
  },
  {
   "cell_type": "code",
   "execution_count": 6,
   "metadata": {},
   "outputs": [
    {
     "data": {
      "text/plain": [
       "['aahed',\n",
       " 'aalii',\n",
       " 'Aalst',\n",
       " 'Aalto',\n",
       " 'AAMSI',\n",
       " 'AAPSS',\n",
       " 'Aarau',\n",
       " 'Aaren',\n",
       " 'aargh',\n",
       " 'Aaron',\n",
       " 'AAVSO',\n",
       " 'Ababa',\n",
       " 'abaca',\n",
       " 'abaci',\n",
       " 'aback']"
      ]
     },
     "execution_count": 6,
     "metadata": {},
     "output_type": "execute_result"
    }
   ],
   "source": [
    "lines[:15]"
   ]
  },
  {
   "cell_type": "code",
   "execution_count": 7,
   "metadata": {},
   "outputs": [],
   "source": [
    "# Pick the random target word to guess\n",
    "random.seed(0)\n",
    "random_index = random.randint(0,len(lines)-1)\n",
    "target = lines[random_index].upper()"
   ]
  },
  {
   "cell_type": "code",
   "execution_count": 14,
   "metadata": {},
   "outputs": [],
   "source": [
    "def check_word_correct(word, target):\n",
    "    return word == target\n",
    "\n",
    "def check_word_valid(word):\n",
    "    # TODO: Make valid actually check that word is a real English word\n",
    "    return len(word) == 5\n",
    "\n",
    "def get_nongreen_letters(guess, target):\n",
    "#     return [i for i in range(len(target)) if guess[i] != target[i]]\n",
    "    return [target[i] for i in range(len(target)) if target[i] != guess[i]]\n",
    "\n",
    "def print_game_status(guesses, target):\n",
    "    print(f'Guess {len(guesses)}/6')\n",
    "    for guess in guesses:\n",
    "        nongreen_letters = get_nongreen_letters(guess, target)\n",
    "        for i in range(5):\n",
    "            if guess[i] == target[i]:\n",
    "                print(GREEN_SQ, end=' ')\n",
    "            elif guess[i] in nongreen_letters:\n",
    "                print(YELLOW_SQ, end=' ')\n",
    "            else:\n",
    "                print(WHITE_SQ, end=' ')\n",
    "        print(guess.upper())\n",
    "    print('-----------------------')"
   ]
  },
  {
   "cell_type": "code",
   "execution_count": 17,
   "metadata": {},
   "outputs": [
    {
     "name": "stdout",
     "output_type": "stream",
     "text": [
      "target=AROMA\n"
     ]
    },
    {
     "name": "stdin",
     "output_type": "stream",
     "text": [
      "Enter your guess: aroaa\n"
     ]
    },
    {
     "name": "stdout",
     "output_type": "stream",
     "text": [
      "Guess 1/6\n",
      "['M']\n",
      "🟩 🟩 🟩 ⬜ 🟩 AROAA\n",
      "-----------------------\n"
     ]
    },
    {
     "name": "stdin",
     "output_type": "stream",
     "text": [
      "Enter your guess: aroma\n"
     ]
    },
    {
     "name": "stdout",
     "output_type": "stream",
     "text": [
      "Guess 2/6\n",
      "['M']\n",
      "🟩 🟩 🟩 ⬜ 🟩 AROAA\n",
      "[]\n",
      "🟩 🟩 🟩 🟩 🟩 AROMA\n",
      "-----------------------\n",
      "You win!\n"
     ]
    }
   ],
   "source": [
    "guesses = []\n",
    "# target = 'wattt'.upper()\n",
    "target = 'aroma'.upper()\n",
    "print(f'target={target}')\n",
    "while len(guesses) < 6:\n",
    "    is_valid = False\n",
    "    while not is_valid:\n",
    "        word = input('Enter your guess:').upper()\n",
    "        is_valid = check_word_valid(word)\n",
    "    guesses.append(word)\n",
    "    is_correct = check_word_correct(word, target)\n",
    "    print_game_status(guesses, target)\n",
    "    if is_correct:\n",
    "        print('You win!')\n",
    "        break"
   ]
  },
  {
   "cell_type": "code",
   "execution_count": null,
   "metadata": {},
   "outputs": [],
   "source": []
  },
  {
   "cell_type": "code",
   "execution_count": null,
   "metadata": {},
   "outputs": [],
   "source": []
  }
 ],
 "metadata": {
  "kernelspec": {
   "display_name": "Python 3",
   "language": "python",
   "name": "python3"
  },
  "language_info": {
   "codemirror_mode": {
    "name": "ipython",
    "version": 3
   },
   "file_extension": ".py",
   "mimetype": "text/x-python",
   "name": "python",
   "nbconvert_exporter": "python",
   "pygments_lexer": "ipython3",
   "version": "3.8.3"
  }
 },
 "nbformat": 4,
 "nbformat_minor": 4
}
